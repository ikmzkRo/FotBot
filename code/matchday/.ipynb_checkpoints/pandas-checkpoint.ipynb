{
 "cells": [
  {
   "cell_type": "code",
   "execution_count": 1,
   "metadata": {},
   "outputs": [
    {
     "name": "stdout",
     "output_type": "stream",
     "text": [
      "4/23（日）\n"
     ]
    },
    {
     "data": {
      "text/html": [
       "<div>\n",
       "<style scoped>\n",
       "    .dataframe tbody tr th:only-of-type {\n",
       "        vertical-align: middle;\n",
       "    }\n",
       "\n",
       "    .dataframe tbody tr th {\n",
       "        vertical-align: top;\n",
       "    }\n",
       "\n",
       "    .dataframe thead th {\n",
       "        text-align: right;\n",
       "    }\n",
       "</style>\n",
       "<table border=\"1\" class=\"dataframe\">\n",
       "  <thead>\n",
       "    <tr style=\"text-align: right;\">\n",
       "      <th></th>\n",
       "      <th>日時</th>\n",
       "      <th>種別</th>\n",
       "      <th>ホーム</th>\n",
       "      <th>スコア</th>\n",
       "      <th>アウェイ</th>\n",
       "    </tr>\n",
       "  </thead>\n",
       "  <tbody>\n",
       "    <tr>\n",
       "      <th>7</th>\n",
       "      <td>4/23（日）  22:00</td>\n",
       "      <td>第32節</td>\n",
       "      <td>ニューカッスル</td>\n",
       "      <td>- 対戦データ</td>\n",
       "      <td>トッテナム</td>\n",
       "    </tr>\n",
       "    <tr>\n",
       "      <th>8</th>\n",
       "      <td>4/23（日）  22:00</td>\n",
       "      <td>第32節</td>\n",
       "      <td>ボーンマス</td>\n",
       "      <td>- 対戦データ</td>\n",
       "      <td>ウェストハム</td>\n",
       "    </tr>\n",
       "    <tr>\n",
       "      <th>9</th>\n",
       "      <td>4/23（日）  24:30</td>\n",
       "      <td>第32節</td>\n",
       "      <td>ブライトン</td>\n",
       "      <td>- 試合中止</td>\n",
       "      <td>マンチェスター・C</td>\n",
       "    </tr>\n",
       "  </tbody>\n",
       "</table>\n",
       "</div>"
      ],
      "text/plain": [
       "               日時    種別      ホーム      スコア       アウェイ\n",
       "7  4/23（日）  22:00  第32節  ニューカッスル  - 対戦データ      トッテナム\n",
       "8  4/23（日）  22:00  第32節    ボーンマス  - 対戦データ     ウェストハム\n",
       "9  4/23（日）  24:30  第32節    ブライトン   - 試合中止  マンチェスター・C"
      ]
     },
     "execution_count": 1,
     "metadata": {},
     "output_type": "execute_result"
    }
   ],
   "source": [
    "from urllib.request import urlopen\n",
    "import pandas as pd\n",
    "import time\n",
    "import re\n",
    "import tweepy\n",
    "# import modules.settings as Settings\n",
    "import requests\n",
    "from bs4 import BeautifulSoup\n",
    "from types import MappingProxyType\n",
    "import datetime\n",
    "\n",
    "# 曜日（英語 ⇒ 日本語）\n",
    "WEEK_DAYS_DICT: dict = MappingProxyType({\n",
    "        'Mon':'（月）',\n",
    "        'Tue':'（火）',\n",
    "        'Wed':'（水）',\n",
    "        'Thu':'（木）',\n",
    "        'Fri':'（金）',\n",
    "        'Sat':'（土）',\n",
    "        'Sun':'（日）'\n",
    "})\n",
    "    \n",
    "# 1ツイートに付与する試合情報数\n",
    "MAX_MATCH_INFO = 5\n",
    "\n",
    "\n",
    "def scrapeSportsNaviPage(search_word: str):\n",
    "\n",
    "    # 対象ページ\n",
    "    url = 'https://soccer.yahoo.co.jp/ws/category/eng/schedule/202205201/32/?gk=52'\n",
    "\n",
    "    # スクレイピング\n",
    "    html = urlopen(url).read().decode('utf-8')\n",
    "\n",
    "    df = pd.read_html(html)[0]\n",
    "\n",
    "    print(search_word)\n",
    "\n",
    "    # 検索日付に絞る\n",
    "    df = df[df['日時'].str.startswith(search_word)]\n",
    "\n",
    "    return df\n",
    "\n",
    "\n",
    "# 現在の日付と曜日を取得\n",
    "today = datetime.date.today().strftime(\"%Y%m%d\")\n",
    "day_of_week = datetime.date.today().strftime(\"%a\")\n",
    "\n",
    "# 昨日の日付と曜日を取得（2023/03時点での読み込み時間が17時なので現状本ソースは不要かと思います）\n",
    "    # yesterday = datetime.date.today() - datetime.timedelta(days=1)\n",
    "    # day_of_week_yesterday = yesterday.strftime(\"%a\")\n",
    "\n",
    "# 検索キーを作成\n",
    "ja_day_of_week = WEEK_DAYS_DICT.get(day_of_week)\n",
    "t_search_key = str(int(today[4:6])) + '/' + str(int(today[6:8])) + ja_day_of_week\n",
    "\n",
    "df2 = scrapeSportsNaviPage('4/23（日）')\n",
    "df2"
   ]
  },
  {
   "cell_type": "code",
   "execution_count": 2,
   "metadata": {
    "scrolled": true
   },
   "outputs": [
    {
     "name": "stdout",
     "output_type": "stream",
     "text": [
      "stay...match_count 1\n",
      "stay...text 今日はプレミアリーグが 3 試合あるよ！⚽\n",
      "絶対に見逃すな！\n",
      "\n",
      "  22:00 ニューカッスル VS トッテナム\n",
      "stay...match_count 2\n",
      "stay...text 今日はプレミアリーグが 3 試合あるよ！⚽\n",
      "絶対に見逃すな！\n",
      "\n",
      "  22:00 ニューカッスル VS トッテナム  22:00 ボーンマス VS ウェストハム\n"
     ]
    },
    {
     "ename": "NameError",
     "evalue": "name '_tweetBot' is not defined",
     "output_type": "error",
     "traceback": [
      "\u001b[0;31m---------------------------------------------------------------------------\u001b[0m",
      "\u001b[0;31mNameError\u001b[0m                                 Traceback (most recent call last)",
      "Input \u001b[0;32mIn [2]\u001b[0m, in \u001b[0;36m<cell line: 44>\u001b[0;34m()\u001b[0m\n\u001b[1;32m     41\u001b[0m                     \u001b[38;5;28mprint\u001b[39m(\u001b[38;5;124m'\u001b[39m\u001b[38;5;124mstay...text\u001b[39m\u001b[38;5;124m'\u001b[39m, text)\n\u001b[1;32m     42\u001b[0m     \u001b[38;5;28;01mreturn\u001b[39;00m\n\u001b[0;32m---> 44\u001b[0m \u001b[43mcreateTweetMsg\u001b[49m\u001b[43m(\u001b[49m\u001b[43mdf2\u001b[49m\u001b[43m)\u001b[49m\n",
      "Input \u001b[0;32mIn [2]\u001b[0m, in \u001b[0;36mcreateTweetMsg\u001b[0;34m(df)\u001b[0m\n\u001b[1;32m     17\u001b[0m \u001b[38;5;28;01mif\u001b[39;00m \u001b[38;5;28mlen\u001b[39m(df) \u001b[38;5;241m<\u001b[39m\u001b[38;5;241m=\u001b[39m MAX_MATCH_INFO:\n\u001b[1;32m     18\u001b[0m     \u001b[38;5;66;03m# マッチ数 = match_countとなった場合ツイート\u001b[39;00m\n\u001b[1;32m     19\u001b[0m     \u001b[38;5;28;01mif\u001b[39;00m \u001b[38;5;28mlen\u001b[39m(df) \u001b[38;5;241m==\u001b[39m match_count:\n\u001b[0;32m---> 20\u001b[0m         res \u001b[38;5;241m=\u001b[39m \u001b[43m_tweetBot\u001b[49m(text, tweetID)\n\u001b[1;32m     21\u001b[0m         \u001b[38;5;28mprint\u001b[39m(\u001b[38;5;124m'\u001b[39m\u001b[38;5;124mツイート成功!\u001b[39m\u001b[38;5;124m'\u001b[39m, res)\n\u001b[1;32m     22\u001b[0m     \u001b[38;5;28;01melse\u001b[39;00m:\n",
      "\u001b[0;31mNameError\u001b[0m: name '_tweetBot' is not defined"
     ]
    }
   ],
   "source": [
    "def createTweetMsg(df: pd.DataFrame):\n",
    "    # トップテキストを用意\n",
    "    top_text = '今日はプレミアリーグが ' + str(len(df)) + ' 試合あるよ！⚽' + '\\n' + '絶対に見逃すな！' + '\\n\\n'\n",
    "    \n",
    "    # 変数を初期化\n",
    "    text = top_text\n",
    "    tweetID = ''\n",
    "    match_count = 0\n",
    "    tweet_count = 0\n",
    "    match_count_sled = len(df) - MAX_MATCH_INFO\n",
    "    \n",
    "    for index, row in df.iterrows():\n",
    "        match_count += 1\n",
    "        text = text + (str(row['日時']).split('）')[1] + ' ' + row['ホーム'] + ' VS ' + row['アウェイ'])\n",
    "        \n",
    "        # マッチ数が4つ以下なら単一ツイートでOK\n",
    "        if len(df) <= MAX_MATCH_INFO:\n",
    "            # マッチ数 = match_countとなった場合ツイート\n",
    "            if len(df) == match_count:\n",
    "                res = _tweetBot(text, tweetID)\n",
    "                print('ツイート成功!', res)\n",
    "            else:\n",
    "                print('stay...match_count', match_count)\n",
    "                print('stay...text', text)\n",
    "        else:\n",
    "            # 試合カードが5試合たまった場合\n",
    "            if match_count >= MAX_MATCH_INFO:\n",
    "                # １回ツイートする\n",
    "                tweetID = _tweetBot(text, tweetID)\n",
    "                tweet_count += 1\n",
    "                # テキストとカウンタを初期化\n",
    "                text = ''\n",
    "                match_count = 0\n",
    "            else:\n",
    "                # スレッド処理を実施\n",
    "                if match_count_sled == match_count:\n",
    "                    res = _tweetBot(text, tweetID)\n",
    "                    print('ツイート成功!', res)\n",
    "                else:\n",
    "                    print('stay...match_count', match_count)\n",
    "                    print('stay...text', text)\n",
    "    return\n",
    "\n",
    "createTweetMsg(df2)"
   ]
  },
  {
   "cell_type": "code",
   "execution_count": 45,
   "metadata": {},
   "outputs": [],
   "source": []
  },
  {
   "cell_type": "code",
   "execution_count": null,
   "metadata": {},
   "outputs": [],
   "source": []
  },
  {
   "cell_type": "code",
   "execution_count": null,
   "metadata": {},
   "outputs": [],
   "source": []
  },
  {
   "cell_type": "code",
   "execution_count": null,
   "metadata": {},
   "outputs": [],
   "source": []
  },
  {
   "cell_type": "code",
   "execution_count": null,
   "metadata": {},
   "outputs": [],
   "source": []
  },
  {
   "cell_type": "code",
   "execution_count": null,
   "metadata": {},
   "outputs": [],
   "source": []
  },
  {
   "cell_type": "code",
   "execution_count": 46,
   "metadata": {},
   "outputs": [
    {
     "name": "stdout",
     "output_type": "stream",
     "text": [
      "  22:00ニューカッスル VS トッテナムの試合がはじまるよ\n",
      "  22:00ボーンマス VS ウェストハムの試合がはじまるよ\n",
      "  24:30ブライトン VS マンチェスター・Cの試合がはじまるよ\n"
     ]
    }
   ],
   "source": [
    "def tweetMSG(df: pd.DataFrame):\n",
    "    for index, row in df.iterrows():\n",
    "        print(str(row['日時']).split('）')[1] + row['ホーム'] + ' VS ' + row['アウェイ'] + 'の試合がはじまるよ')\n",
    "    return\n",
    "\n",
    "tweetMSG(df2)"
   ]
  },
  {
   "cell_type": "code",
   "execution_count": null,
   "metadata": {},
   "outputs": [],
   "source": []
  }
 ],
 "metadata": {
  "kernelspec": {
   "display_name": "Python 3 (ipykernel)",
   "language": "python",
   "name": "python3"
  },
  "language_info": {
   "codemirror_mode": {
    "name": "ipython",
    "version": 3
   },
   "file_extension": ".py",
   "mimetype": "text/x-python",
   "name": "python",
   "nbconvert_exporter": "python",
   "pygments_lexer": "ipython3",
   "version": "3.8.10"
  }
 },
 "nbformat": 4,
 "nbformat_minor": 4
}
